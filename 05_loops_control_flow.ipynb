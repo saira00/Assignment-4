{
  "nbformat": 4,
  "nbformat_minor": 0,
  "metadata": {
    "colab": {
      "provenance": [],
      "authorship_tag": "ABX9TyNLkK+r6ndP2hu6MjnQyV4P",
      "include_colab_link": true
    },
    "kernelspec": {
      "name": "python3",
      "display_name": "Python 3"
    },
    "language_info": {
      "name": "python"
    }
  },
  "cells": [
    {
      "cell_type": "markdown",
      "metadata": {
        "id": "view-in-github",
        "colab_type": "text"
      },
      "source": [
        "<a href=\"https://colab.research.google.com/github/saira00/Assignment-4/blob/main/05_loops_control_flow.ipynb\" target=\"_parent\"><img src=\"https://colab.research.google.com/assets/colab-badge.svg\" alt=\"Open In Colab\"/></a>"
      ]
    },
    {
      "cell_type": "code",
      "execution_count": null,
      "metadata": {
        "colab": {
          "base_uri": "https://localhost:8080/"
        },
        "id": "zS5PZyDXb_w9",
        "outputId": "d8245473-7c40-48f3-9041-753bfbb2773f"
      },
      "outputs": [
        {
          "output_type": "stream",
          "name": "stdout",
          "text": [
            "I am thinking of a number between 0 and 99...\n",
            "Enter a guess: 4\n",
            "Your guess is too low\n",
            "\n",
            "Enter a guess: 50\n",
            "Your guess is too low\n",
            "\n",
            "Enter a guess: 65\n",
            "Your guess is too low\n",
            "\n",
            "Enter a guess: 70\n",
            "Your guess is too low\n",
            "\n",
            "Enter a guess: 80\n",
            "Your guess is too low\n",
            "\n",
            "Enter a guess: 90\n",
            "Your guess is too low\n",
            "\n",
            "Enter a guess: 99\n",
            "Your guess is too high\n",
            "\n",
            "Enter a guess: 95\n",
            "Your guess is too high\n",
            "\n"
          ]
        }
      ],
      "source": [
        "import random\n",
        "\n",
        "# Randomly select a number between 0 and 99\n",
        "secret_number = random.randint(0, 99)\n",
        "\n",
        "print(\"I am thinking of a number between 0 and 99...\")\n",
        "\n",
        "# Loop until the correct guess is made\n",
        "while True:\n",
        "    guess = input(\"Enter a guess: \")\n",
        "\n",
        "    # Check if input is a valid number\n",
        "    if not guess.isdigit():\n",
        "        print(\"Please enter a valid number.\")\n",
        "        continue\n",
        "\n",
        "    guess = int(guess)\n",
        "\n",
        "    if guess > secret_number:\n",
        "        print(\"Your guess is too high\\n\")\n",
        "    elif guess < secret_number:\n",
        "        print(\"Your guess is too low\\n\")\n",
        "    else:\n",
        "        print(f\"Congrats! The number was: {secret_number}\")\n",
        "        break\n"
      ]
    },
    {
      "cell_type": "code",
      "source": [
        "# Constant for maximum value\n",
        "MAX_VALUE = 10000\n",
        "\n",
        "# Starting values of the Fibonacci sequence\n",
        "a, b = 0, 1\n",
        "\n",
        "# Print Fibonacci terms less than MAX_VALUE\n",
        "while a < MAX_VALUE:\n",
        "    print(a, end=\" \")\n",
        "    a, b = b, a + b\n"
      ],
      "metadata": {
        "id": "Vivi65KgdS1C"
      },
      "execution_count": null,
      "outputs": []
    },
    {
      "cell_type": "code",
      "source": [
        "# Print the first 20 even numbers starting from 0\n",
        "for i in range(20):\n",
        "    even_number = i * 2\n",
        "    print(even_number, end=\" \")\n"
      ],
      "metadata": {
        "id": "X6Me8ltgdfGM"
      },
      "execution_count": null,
      "outputs": []
    },
    {
      "cell_type": "code",
      "source": [
        "affirmation = \"I am capable of doing anything I put my mind to.\"\n",
        "\n",
        "# Keep asking until the user types the affirmation correctly\n",
        "while True:\n",
        "    print(\"Please type the following affirmation:\")\n",
        "    user_input = input()\n",
        "\n",
        "    if user_input == affirmation:\n",
        "        print(\"That's right! :)\")\n",
        "        break\n",
        "    else:\n",
        "        print(\"Hmmm That was not the affirmation.\")\n"
      ],
      "metadata": {
        "id": "kkRlctoDdrZ1"
      },
      "execution_count": null,
      "outputs": []
    },
    {
      "cell_type": "code",
      "source": [
        "for i in range(10):\n",
        "    print(10 - i, end=\" \")\n",
        "\n",
        "print(\"Liftoff!\")\n"
      ],
      "metadata": {
        "id": "E1Mhoz82dyJC"
      },
      "execution_count": null,
      "outputs": []
    },
    {
      "cell_type": "code",
      "source": [
        "# Ask the user to enter a number\n",
        "curr_value = int(input(\"Enter a number: \"))\n",
        "\n",
        "# Keep doubling the value and printing it until it's 100 or more\n",
        "while curr_value < 100:\n",
        "    curr_value = curr_value * 2\n",
        "    print(curr_value)\n"
      ],
      "metadata": {
        "id": "ngPurueUd4ki"
      },
      "execution_count": null,
      "outputs": []
    }
  ]
}