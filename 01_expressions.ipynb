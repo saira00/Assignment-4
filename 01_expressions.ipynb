{
  "nbformat": 4,
  "nbformat_minor": 0,
  "metadata": {
    "colab": {
      "provenance": [],
      "authorship_tag": "ABX9TyOdviL2IThp25aHpZNz/UsR",
      "include_colab_link": true
    },
    "kernelspec": {
      "name": "python3",
      "display_name": "Python 3"
    },
    "language_info": {
      "name": "python"
    }
  },
  "cells": [
    {
      "cell_type": "markdown",
      "metadata": {
        "id": "view-in-github",
        "colab_type": "text"
      },
      "source": [
        "<a href=\"https://colab.research.google.com/github/saira00/Assignment-4/blob/main/01_expressions.ipynb\" target=\"_parent\"><img src=\"https://colab.research.google.com/assets/colab-badge.svg\" alt=\"Open In Colab\"/></a>"
      ]
    },
    {
      "cell_type": "code",
      "execution_count": null,
      "metadata": {
        "colab": {
          "base_uri": "https://localhost:8080/"
        },
        "id": "2vdMoqlMpVA2",
        "outputId": "09194805-2dde-4027-c74c-f62c8d3e060f"
      },
      "outputs": [
        {
          "output_type": "stream",
          "name": "stdout",
          "text": [
            "Rolling two dice three times:\n",
            "\n",
            "Roll 1:\n",
            "Die 1: 4, Die 2: 1\n",
            "\n",
            "Roll 2:\n",
            "Die 1: 6, Die 2: 4\n",
            "\n",
            "Roll 3:\n",
            "Die 1: 5, Die 2: 6\n",
            "\n"
          ]
        }
      ],
      "source": [
        "import random\n",
        "\n",
        "def roll_dice():\n",
        "    # These variables are local to the function\n",
        "    die1 = random.randint(1, 6)\n",
        "    die2 = random.randint(1, 6)\n",
        "    print(f\"Die 1: {die1}, Die 2: {die2}\")\n",
        "\n",
        "# This is the main part of the program\n",
        "def main():\n",
        "    print(\"Rolling two dice three times:\\n\")\n",
        "\n",
        "    for i in range(3):\n",
        "        print(f\"Roll {i + 1}:\")\n",
        "        roll_dice()\n",
        "        print()\n",
        "\n",
        "    # Trying to print die1 or die2 here will cause an error:\n",
        "    # print(die1)  # Uncommenting this will raise a NameError\n",
        "\n",
        "main()\n"
      ]
    },
    {
      "cell_type": "code",
      "source": [
        "# Constant value for speed of light\n",
        "C = 299792458  # in meters per second\n",
        "\n",
        "while True:\n",
        "    try:\n",
        "        mass_input = input(\"Enter kilos of mass (or type 'exit' to quit): \")\n",
        "\n",
        "        if mass_input.lower() == 'exit':\n",
        "            print(\"Exiting program.\")\n",
        "            break\n",
        "\n",
        "        m = float(mass_input)\n",
        "\n",
        "        print(\"\\ne = m * C^2...\")\n",
        "        print(f\"m = {m} kg\")\n",
        "        print(f\"C = {C} m/s\")\n",
        "\n",
        "        energy = m * C**2\n",
        "        print(f\"{energy} joules of energy!\\n\")\n",
        "\n",
        "    except ValueError:\n",
        "        print(\"Please enter a valid number for mass.\\n\")\n"
      ],
      "metadata": {
        "colab": {
          "base_uri": "https://localhost:8080/"
        },
        "id": "HCbLo7Hkp1cY",
        "outputId": "8631452f-8770-4f72-e114-38feee21964c"
      },
      "execution_count": null,
      "outputs": [
        {
          "metadata": {
            "tags": null
          },
          "name": "stdout",
          "output_type": "stream",
          "text": [
            "\n",
            "e = m * C^2...\n",
            "m = 4.0 kg\n",
            "C = 299792458 m/s\n",
            "3.5950207149472704e+17 joules of energy!\n",
            "\n",
            "\n",
            "e = m * C^2...\n",
            "m = 3.0 kg\n",
            "C = 299792458 m/s\n",
            "2.6962655362104528e+17 joules of energy!\n",
            "\n"
          ]
        }
      ]
    },
    {
      "cell_type": "code",
      "source": [
        "# Conversion factor\n",
        "INCHES_PER_FOOT = 12\n",
        "\n",
        "while True:\n",
        "    try:\n",
        "        feet_input = input(\"Enter length in feet (or type 'exit' to quit): \")\n",
        "\n",
        "        if feet_input.lower() == 'exit':\n",
        "            print(\"Exiting program.\")\n",
        "            break\n",
        "\n",
        "        feet = float(feet_input)\n",
        "        inches = feet * INCHES_PER_FOOT\n",
        "\n",
        "        # Singular vs plural formatting\n",
        "        foot_word = \"foot\" if feet == 1 else \"feet\"\n",
        "        inch_word = \"inch\" if inches == 1 else \"inches\"\n",
        "\n",
        "        print(f\"{feet} {foot_word} is equal to {inches} {inch_word}.\\n\")\n",
        "\n",
        "    except ValueError:\n",
        "        print(\"Please enter a valid number for feet.\\n\")\n"
      ],
      "metadata": {
        "id": "DP4yMEeFqF4T"
      },
      "execution_count": null,
      "outputs": []
    },
    {
      "cell_type": "code",
      "source": [
        "import math\n",
        "\n",
        "while True:\n",
        "    try:\n",
        "        ab_input = input(\"Enter the length of AB (or type 'exit' to quit): \")\n",
        "        if ab_input.lower() == 'exit':\n",
        "            print(\"Exiting program.\")\n",
        "            break\n",
        "\n",
        "        ac_input = input(\"Enter the length of AC (or type 'exit' to quit): \")\n",
        "        if ac_input.lower() == 'exit':\n",
        "            print(\"Exiting program.\")\n",
        "            break\n",
        "\n",
        "        ab = float(ab_input)\n",
        "        ac = float(ac_input)\n",
        "\n",
        "        bc = math.sqrt(ab**2 + ac**2)\n",
        "\n",
        "        print(f\"\\nThe length of BC (the hypotenuse) is: {bc}\\n\")\n",
        "\n",
        "    except ValueError:\n",
        "        print(\"Please enter valid numeric values.\\n\")\n"
      ],
      "metadata": {
        "id": "f0gBFwGky4BC"
      },
      "execution_count": null,
      "outputs": []
    },
    {
      "cell_type": "code",
      "source": [
        "while True:\n",
        "    try:\n",
        "        num1_input = input(\"Please enter an integer to be divided (or type 'exit' to quit): \")\n",
        "        if num1_input.lower() == 'exit':\n",
        "            print(\"Exiting program.\")\n",
        "            break\n",
        "\n",
        "        num2_input = input(\"Please enter an integer to divide by (or type 'exit' to quit): \")\n",
        "        if num2_input.lower() == 'exit':\n",
        "            print(\"Exiting program.\")\n",
        "            break\n",
        "\n",
        "        num1 = int(num1_input)\n",
        "        num2 = int(num2_input)\n",
        "\n",
        "        if num2 == 0:\n",
        "            print(\"Cannot divide by zero. Try again.\\n\")\n",
        "            continue\n",
        "\n",
        "        quotient = num1 // num2\n",
        "        remainder = num1 % num2\n",
        "\n",
        "        print(f\"\\nThe result of this division is {quotient} with a remainder of {remainder}\\n\")\n",
        "\n",
        "    except ValueError:\n",
        "        print(\"Please enter valid integers.\\n\")\n"
      ],
      "metadata": {
        "id": "jobSBQ4wzC9X"
      },
      "execution_count": null,
      "outputs": []
    },
    {
      "cell_type": "code",
      "source": [
        "import random\n",
        "\n",
        "# Simulate rolling two dice\n",
        "die1 = random.randint(1, 6)\n",
        "die2 = random.randint(1, 6)\n",
        "\n",
        "# Calculate total\n",
        "total = die1 + die2\n",
        "\n",
        "# Print the results\n",
        "print(f\"First die: {die1}\")\n",
        "print(f\"Second die: {die2}\")\n",
        "print(f\"Total: {total}\")\n"
      ],
      "metadata": {
        "id": "xYlj1PZ2zHFT"
      },
      "execution_count": null,
      "outputs": []
    },
    {
      "cell_type": "code",
      "source": [
        "# Constants\n",
        "days_in_year = 365\n",
        "hours_in_day = 24\n",
        "minutes_in_hour = 60\n",
        "seconds_in_minute = 60\n",
        "\n",
        "# Calculate total seconds in a year\n",
        "seconds_in_year = days_in_year * hours_in_day * minutes_in_hour * seconds_in_minute\n",
        "\n",
        "# Print the result\n",
        "print(f\"There are {seconds_in_year} seconds in a year!\")\n"
      ],
      "metadata": {
        "id": "zhjuXzt2zNmp"
      },
      "execution_count": null,
      "outputs": []
    },
    {
      "cell_type": "code",
      "source": [
        "# Starting sentence template\n",
        "SENTENCE_START = \"I learned to program and used Python to make my\"\n",
        "\n",
        "# Prompting user for inputs\n",
        "adjective = input(\"Please type an adjective and press enter: \")\n",
        "noun = input(\"Please type a noun and press enter: \")\n",
        "verb = input(\"Please type a verb and press enter: \")\n",
        "\n",
        "# Creating and printing the fun sentence\n",
        "print(f\"{SENTENCE_START} {adjective} {noun} {verb}!\")\n"
      ],
      "metadata": {
        "id": "kCT9Ly5ozSY5"
      },
      "execution_count": null,
      "outputs": []
    }
  ]
}