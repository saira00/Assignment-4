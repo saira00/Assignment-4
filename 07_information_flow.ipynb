{
  "nbformat": 4,
  "nbformat_minor": 0,
  "metadata": {
    "colab": {
      "provenance": [],
      "authorship_tag": "ABX9TyPl0/kP/xbdKBw+MGUY2Imh",
      "include_colab_link": true
    },
    "kernelspec": {
      "name": "python3",
      "display_name": "Python 3"
    },
    "language_info": {
      "name": "python"
    }
  },
  "cells": [
    {
      "cell_type": "markdown",
      "metadata": {
        "id": "view-in-github",
        "colab_type": "text"
      },
      "source": [
        "<a href=\"https://colab.research.google.com/github/saira00/Assignment-4/blob/main/07_information_flow.ipynb\" target=\"_parent\"><img src=\"https://colab.research.google.com/assets/colab-badge.svg\" alt=\"Open In Colab\"/></a>"
      ]
    },
    {
      "cell_type": "code",
      "execution_count": 1,
      "metadata": {
        "colab": {
          "base_uri": "https://localhost:8080/"
        },
        "id": "fkyg1E16isaz",
        "outputId": "ea27b020-e44a-48ab-8ce0-df0ef4292e4e"
      },
      "outputs": [
        {
          "output_type": "stream",
          "name": "stdout",
          "text": [
            "How old is this person?: 18\n",
            "True\n"
          ]
        }
      ],
      "source": [
        "# Define the constant for adult age\n",
        "ADULT_AGE = 18\n",
        "\n",
        "# Define the function to check if the person is an adult\n",
        "def is_adult(age):\n",
        "    if age >= ADULT_AGE:\n",
        "        return True\n",
        "    else:\n",
        "        return False\n",
        "\n",
        "# Example usage\n",
        "age = int(input(\"How old is this person?: \"))\n",
        "print(is_adult(age))\n"
      ]
    },
    {
      "cell_type": "code",
      "source": [
        "# Helper function\n",
        "def greet(name):\n",
        "    print(\"Greetings \" + name + \"!\")\n",
        "\n",
        "# Main function\n",
        "def main():\n",
        "    name = input(\"What's your name? \")\n",
        "    greet(name)\n",
        "\n",
        "# Call the main function\n",
        "main()\n"
      ],
      "metadata": {
        "colab": {
          "base_uri": "https://localhost:8080/"
        },
        "id": "HtOz-UyvjX96",
        "outputId": "f40ee14b-480a-4155-e282-ec62511f1f77"
      },
      "execution_count": 2,
      "outputs": [
        {
          "output_type": "stream",
          "name": "stdout",
          "text": [
            "What's your name? saira\n",
            "Greetings saira!\n"
          ]
        }
      ]
    },
    {
      "cell_type": "code",
      "source": [
        "def in_range(n, low, high):\n",
        "    \"\"\" Returns True if n is between low and high, inclusive. \"\"\"\n",
        "    return low <= n <= high\n",
        "\n",
        "# Example usage\n",
        "print(in_range(5, 1, 10))  # This will print: True\n"
      ],
      "metadata": {
        "colab": {
          "base_uri": "https://localhost:8080/"
        },
        "id": "DeX3ZylEjjht",
        "outputId": "14a44648-03ff-4f03-8d90-39f1d68c6b3f"
      },
      "execution_count": 3,
      "outputs": [
        {
          "output_type": "stream",
          "name": "stdout",
          "text": [
            "True\n"
          ]
        }
      ]
    },
    {
      "cell_type": "code",
      "source": [
        "# Example inventory for demonstration\n",
        "inventory = {\n",
        "    \"apple\": 50,\n",
        "    \"banana\": 20,\n",
        "    \"pear\": 1000,\n",
        "    \"orange\": 0\n",
        "}\n",
        "\n",
        "# Helper function\n",
        "def num_in_stock(fruit):\n",
        "    return inventory.get(fruit.lower(), 0)\n",
        "\n",
        "# Main function\n",
        "def main():\n",
        "    fruit = input(\"Enter a fruit: \").strip()\n",
        "    stock = num_in_stock(fruit)\n",
        "\n",
        "    if stock > 0:\n",
        "        print(\"This fruit is in stock! Here is how many:\")\n",
        "        print(stock)\n",
        "    else:\n",
        "        print(\"This fruit is not in stock.\")\n",
        "\n",
        "# Run the main function\n",
        "main()\n"
      ],
      "metadata": {
        "colab": {
          "base_uri": "https://localhost:8080/"
        },
        "id": "FQKyZAUajq9h",
        "outputId": "0feafe48-fc72-44bd-e1b3-9fbe62bc89f8"
      },
      "execution_count": 4,
      "outputs": [
        {
          "output_type": "stream",
          "name": "stdout",
          "text": [
            "Enter a fruit: apple\n",
            "This fruit is in stock! Here is how many:\n",
            "50\n"
          ]
        }
      ]
    },
    {
      "cell_type": "code",
      "source": [],
      "metadata": {
        "id": "vP2Zy_IXj6F6"
      },
      "execution_count": null,
      "outputs": []
    },
    {
      "cell_type": "code",
      "source": [
        "def get_user_data():\n",
        "    first_name = input(\"What is your first name?: \")\n",
        "    last_name = input(\"What is your last name?: \")\n",
        "    email = input(\"What is your email address?: \")\n",
        "    return first_name, last_name, email  # This packs the values into a tuple\n",
        "\n",
        "# Main function to test it\n",
        "def main():\n",
        "    user_data = get_user_data()  # This unpacks the returned values into a tuple\n",
        "    print(\"Received the following user data:\", user_data)\n",
        "\n",
        "# Call the main function\n",
        "main()\n"
      ],
      "metadata": {
        "colab": {
          "base_uri": "https://localhost:8080/"
        },
        "id": "ITS0trKCjygG",
        "outputId": "b33311b0-d0cf-40c1-b780-560bd876b1d2"
      },
      "execution_count": 5,
      "outputs": [
        {
          "output_type": "stream",
          "name": "stdout",
          "text": [
            "What is your first name?: saira\n",
            "What is your last name?: kanwal\n",
            "What is your email address?: 123#@email.com\n",
            "Received the following user data: ('saira', 'kanwal', '123#@email.com')\n"
          ]
        }
      ]
    },
    {
      "cell_type": "code",
      "source": [
        "# Helper function\n",
        "def subtract_seven(num):\n",
        "    return num - 7\n",
        "\n",
        "# Main function\n",
        "def main():\n",
        "    number = int(input(\"Enter a number: \"))\n",
        "    result = subtract_seven(number)\n",
        "    print(\"Result after subtracting 7:\", result)\n",
        "\n",
        "# Call the main function\n",
        "main()\n"
      ],
      "metadata": {
        "colab": {
          "base_uri": "https://localhost:8080/"
        },
        "id": "9TUwxWuskJF6",
        "outputId": "62971d27-a784-4a42-9e2f-95f3ed41b25c"
      },
      "execution_count": 6,
      "outputs": [
        {
          "output_type": "stream",
          "name": "stdout",
          "text": [
            "Enter a number: 7\n",
            "Result after subtracting 7: 0\n"
          ]
        }
      ]
    }
  ]
}