{
  "nbformat": 4,
  "nbformat_minor": 0,
  "metadata": {
    "colab": {
      "provenance": [],
      "authorship_tag": "ABX9TyMl5GT4Lre/jblnip0gKwHm",
      "include_colab_link": true
    },
    "kernelspec": {
      "name": "python3",
      "display_name": "Python 3"
    },
    "language_info": {
      "name": "python"
    }
  },
  "cells": [
    {
      "cell_type": "markdown",
      "metadata": {
        "id": "view-in-github",
        "colab_type": "text"
      },
      "source": [
        "<a href=\"https://colab.research.google.com/github/saira00/Assignment-4/blob/main/04_dictionaries.ipynb\" target=\"_parent\"><img src=\"https://colab.research.google.com/assets/colab-badge.svg\" alt=\"Open In Colab\"/></a>"
      ]
    },
    {
      "cell_type": "code",
      "execution_count": 1,
      "metadata": {
        "colab": {
          "base_uri": "https://localhost:8080/"
        },
        "id": "FhprpCHIjAMl",
        "outputId": "1fcb0bf5-4536-4691-aa87-3bfa6f6fecc6"
      },
      "outputs": [
        {
          "output_type": "stream",
          "name": "stdout",
          "text": [
            "Enter a number: 2\n",
            "Enter a number: 4\n",
            "Enter a number: 6\n",
            "Enter a number: \n",
            "2 appears 1 times.\n",
            "4 appears 1 times.\n",
            "6 appears 1 times.\n"
          ]
        }
      ],
      "source": [
        "# Initialize an empty dictionary to store counts\n",
        "number_counts = {}\n",
        "\n",
        "# Continuously prompt the user for numbers until they enter an empty input\n",
        "while True:\n",
        "    number = input(\"Enter a number: \")\n",
        "\n",
        "    if number == \"\":  # If the user enters an empty input, stop the program\n",
        "        break\n",
        "\n",
        "    # Convert the input to an integer\n",
        "    number = int(number)\n",
        "\n",
        "    # Update the count of the number in the dictionary\n",
        "    if number in number_counts:\n",
        "        number_counts[number] += 1\n",
        "    else:\n",
        "        number_counts[number] = 1\n",
        "\n",
        "# Print the counts of each number\n",
        "for num, count in number_counts.items():\n",
        "    print(f\"{num} appears {count} times.\")\n"
      ]
    },
    {
      "cell_type": "code",
      "source": [
        "# Create an empty dictionary to store the phonebook\n",
        "phonebook = {}\n",
        "\n",
        "# Loop to allow the user to add entries\n",
        "while True:\n",
        "    action = input(\"\\nDo you want to add a contact (a), look up a contact (l), or quit (q)? \").lower()\n",
        "\n",
        "    if action == \"q\":\n",
        "        print(\"Exiting phonebook. Goodbye!\")\n",
        "        break\n",
        "\n",
        "    elif action == \"a\":\n",
        "        name = input(\"Enter the contact name: \")\n",
        "        number = input(\"Enter the phone number: \")\n",
        "        phonebook[name] = number\n",
        "        print(f\"Saved {name} -> {number}\")\n",
        "\n",
        "    elif action == \"l\":\n",
        "        name = input(\"Enter the name to look up: \")\n",
        "        if name in phonebook:\n",
        "            print(f\"{name}'s number is {phonebook[name]}\")\n",
        "        else:\n",
        "            print(f\"No contact found with the name '{name}'.\")\n",
        "\n",
        "    else:\n",
        "        print(\"Invalid choice. Please type 'a' to add, 'l' to look up, or 'q' to quit.\")\n"
      ],
      "metadata": {
        "colab": {
          "base_uri": "https://localhost:8080/"
        },
        "id": "GWDolkgwjfDj",
        "outputId": "0f9b7c59-bb2d-4b0e-d0b9-e1607fd8e92c"
      },
      "execution_count": 2,
      "outputs": [
        {
          "output_type": "stream",
          "name": "stdout",
          "text": [
            "\n",
            "Do you want to add a contact (a), look up a contact (l), or quit (q)? 2\n",
            "Invalid choice. Please type 'a' to add, 'l' to look up, or 'q' to quit.\n",
            "\n",
            "Do you want to add a contact (a), look up a contact (l), or quit (q)? q\n",
            "Exiting phonebook. Goodbye!\n"
          ]
        }
      ]
    },
    {
      "cell_type": "code",
      "source": [
        "# Dictionary with fruits and their prices\n",
        "fruit_prices = {\n",
        "    \"apple\": 5.0,\n",
        "    \"durian\": 30.0,\n",
        "    \"jackfruit\": 20.0,\n",
        "    \"kiwi\": 8.5,\n",
        "    \"rambutan\": 6.0,\n",
        "    \"mango\": 10.0\n",
        "}\n",
        "\n",
        "total_cost = 0.0  # Start with zero total cost\n",
        "\n",
        "# Loop through the dictionary to get quantity from the user\n",
        "for fruit, price in fruit_prices.items():\n",
        "    quantity = input(f\"How many ({fruit}) do you want?: \")\n",
        "\n",
        "    # Convert quantity to integer if entered, else skip\n",
        "    if quantity.strip() == \"\":\n",
        "        quantity = 0\n",
        "    else:\n",
        "        quantity = int(quantity)\n",
        "\n",
        "    # Add to the total cost\n",
        "    total_cost += quantity * price\n",
        "\n",
        "# Print the total amount with 2 decimal places\n",
        "print(f\"\\nYour total is ${total_cost:.2f}\")\n"
      ],
      "metadata": {
        "colab": {
          "base_uri": "https://localhost:8080/"
        },
        "id": "3DTbaSWUkA9S",
        "outputId": "0c2647c2-7b2b-403e-bd47-18d09d1d56f1"
      },
      "execution_count": 3,
      "outputs": [
        {
          "output_type": "stream",
          "name": "stdout",
          "text": [
            "How many (apple) do you want?: 4\n",
            "How many (durian) do you want?: 2\n",
            "How many (jackfruit) do you want?: 5\n",
            "How many (kiwi) do you want?: 3\n",
            "How many (rambutan) do you want?: 2\n",
            "How many (mango) do you want?: 2\n",
            "\n",
            "Your total is $237.50\n"
          ]
        }
      ]
    },
    {
      "cell_type": "code",
      "source": [
        "import hashlib\n",
        "\n",
        "# Function to hash the password\n",
        "def hash_password(password):\n",
        "    return hashlib.sha256(password.encode()).hexdigest()\n",
        "\n",
        "# The login function\n",
        "def login(email, password_to_check, stored_logins):\n",
        "    # Hash the password the user typed\n",
        "    hashed_password = hash_password(password_to_check)\n",
        "\n",
        "    # Check if email exists and the hash matches\n",
        "    if email in stored_logins and stored_logins[email] == hashed_password:\n",
        "        return True\n",
        "    else:\n",
        "        return False\n"
      ],
      "metadata": {
        "id": "9vh54YZBkUmP"
      },
      "execution_count": 8,
      "outputs": []
    }
  ]
}