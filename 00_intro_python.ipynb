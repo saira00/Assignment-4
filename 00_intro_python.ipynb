{
  "nbformat": 4,
  "nbformat_minor": 0,
  "metadata": {
    "colab": {
      "provenance": [],
      "authorship_tag": "ABX9TyNX0uJOeE0xVSJe5DZiAxV6",
      "include_colab_link": true
    },
    "kernelspec": {
      "name": "python3",
      "display_name": "Python 3"
    },
    "language_info": {
      "name": "python"
    }
  },
  "cells": [
    {
      "cell_type": "markdown",
      "metadata": {
        "id": "view-in-github",
        "colab_type": "text"
      },
      "source": [
        "<a href=\"https://colab.research.google.com/github/saira00/Assignment-4/blob/main/00_intro_python.ipynb\" target=\"_parent\"><img src=\"https://colab.research.google.com/assets/colab-badge.svg\" alt=\"Open In Colab\"/></a>"
      ]
    },
    {
      "cell_type": "code",
      "execution_count": 1,
      "metadata": {
        "colab": {
          "base_uri": "https://localhost:8080/"
        },
        "id": "erKelN-bQa16",
        "outputId": "5488ecae-4d44-40fb-adce-b0dc540530cd"
      },
      "outputs": [
        {
          "output_type": "stream",
          "name": "stdout",
          "text": [
            "Enter the second number: 2\n",
            "The sum of 2 and 2 is: 4\n"
          ]
        }
      ],
      "source": [
        "def main():\n",
        "    # Prompt the user to enter the first number\n",
        "    first_number = int(input(\"Enter the first number: \"))\n",
        "\n",
        "    # Prompt the user to enter the second number\n",
        "    second_number = int(input(\"Enter the second number: \"))\n",
        "\n",
        "    # Calculate the sum\n",
        "    total = first_number + second_number\n",
        "\n",
        "    # Display the result\n",
        "    print(\"The sum of\", first_number, \"and\", second_number, \"is:\", total)\n",
        "\n",
        "# Call the main function\n",
        "main()\n"
      ]
    },
    {
      "cell_type": "code",
      "source": [
        "def main():\n",
        "    # Ask the user for their favorite animal\n",
        "    favorite_animal = input(\"What's your favorite animal? \")\n",
        "\n",
        "    # Respond with the same animal\n",
        "    print(\"My favorite animal is also \" + favorite_animal + \"!\")\n",
        "\n",
        "\n",
        "# This provided line is required at the end of\n",
        "# Python file to call the main() function.\n",
        "if __name__ == '__main__':\n",
        "    main()\n",
        "\n"
      ],
      "metadata": {
        "colab": {
          "base_uri": "https://localhost:8080/"
        },
        "id": "LF4G5UvfhDrG",
        "outputId": "616817b3-e1cb-412a-e2ff-a2becb04bc40"
      },
      "execution_count": 3,
      "outputs": [
        {
          "output_type": "stream",
          "name": "stdout",
          "text": [
            "What's your favorite animal? goat\n",
            "My favorite animal is also goat!\n"
          ]
        }
      ]
    },
    {
      "cell_type": "code",
      "source": [
        "def main():\n",
        "    # Prompt the user to enter temperature in Fahrenheit\n",
        "    fahrenheit = float(input(\"Enter temperature in Fahrenheit: \"))\n",
        "\n",
        "    # Convert to Celsius\n",
        "    celsius = (fahrenheit - 32) * 5.0 / 9.0\n",
        "\n",
        "    # Print the result\n",
        "    print(\"Temperature:\", str(fahrenheit) + \"F =\", str(celsius) + \"C\")\n",
        "\n",
        "\n",
        "# Call the main function\n",
        "if __name__ == '__main__':\n",
        "    main()\n"
      ],
      "metadata": {
        "colab": {
          "base_uri": "https://localhost:8080/"
        },
        "id": "Jlsleu9liYZ6",
        "outputId": "e86f4efc-2192-408b-f681-c3ad266ea404"
      },
      "execution_count": 4,
      "outputs": [
        {
          "output_type": "stream",
          "name": "stdout",
          "text": [
            "Enter temperature in Fahrenheit: 32\n",
            "Temperature: 32.0F = 0.0C\n"
          ]
        }
      ]
    },
    {
      "cell_type": "code",
      "source": [
        "def main():\n",
        "    # Store each person's age in a variable\n",
        "    Anton = 21\n",
        "    Beth = Anton + 6\n",
        "    Chen = Beth + 20\n",
        "    Drew = Chen + Anton\n",
        "    Ethan = Chen\n",
        "\n",
        "    # Print each person's name and age\n",
        "    print(\"Anton: 21\")\n",
        "    print(\"Beth: 27\")\n",
        "    print(\"Chen: 47\")\n",
        "    print(\"Drew: 68\")\n",
        "    print(\"Ethan: 47\")\n",
        "\n",
        "\n",
        "# This line calls the main function when the program runs\n",
        "if __name__ == '__main__':\n",
        "    main()\n"
      ],
      "metadata": {
        "colab": {
          "base_uri": "https://localhost:8080/"
        },
        "id": "g-PldBuIjQSW",
        "outputId": "545b3375-11e8-4991-a114-e549ddc60a58"
      },
      "execution_count": 5,
      "outputs": [
        {
          "output_type": "stream",
          "name": "stdout",
          "text": [
            "Anton: 21\n",
            "Beth: 27\n",
            "Chen: 47\n",
            "Drew: 68\n",
            "Ethan: 47\n"
          ]
        }
      ]
    },
    {
      "cell_type": "code",
      "source": [
        "def main():\n",
        "    # Prompt the user for the lengths of each side\n",
        "    side1 = float(input(\"What is the length of side 1? \"))\n",
        "    side2 = float(input(\"What is the length of side 2? \"))\n",
        "    side3 = float(input(\"What is the length of side 3? \"))\n",
        "\n",
        "    # Calculate the perimeter\n",
        "    perimeter = side1 + side2 + side3\n",
        "\n",
        "    # Print the result\n",
        "    print(\"The perimeter of the triangle is\", perimeter)\n",
        "\n",
        "\n",
        "# Call the main function\n",
        "if __name__ == '__main__':\n",
        "    main()\n"
      ],
      "metadata": {
        "colab": {
          "base_uri": "https://localhost:8080/"
        },
        "id": "nZdZcgYkjvC1",
        "outputId": "de7b6678-c3a7-4633-e92e-7c9283f053dc"
      },
      "execution_count": 6,
      "outputs": [
        {
          "output_type": "stream",
          "name": "stdout",
          "text": [
            "What is the length of side 1? 2\n",
            "What is the length of side 2? 4\n",
            "What is the length of side 3? 6\n",
            "The perimeter of the triangle is 12.0\n"
          ]
        }
      ]
    },
    {
      "cell_type": "code",
      "source": [
        "def main():\n",
        "    # Ask the user for a number\n",
        "    number = float(input(\"Type a number to see its square: \"))\n",
        "\n",
        "    # Calculate the square\n",
        "    square = number * number\n",
        "\n",
        "    # Print the result\n",
        "    print(f\"{number} squared is {square}\")\n",
        "\n",
        "\n",
        "# Call the main function\n",
        "if __name__ == '__main__':\n",
        "    main()\n"
      ],
      "metadata": {
        "colab": {
          "base_uri": "https://localhost:8080/"
        },
        "id": "V5fy3e1skTul",
        "outputId": "ad43c34a-f43e-4dda-fd16-f67740cfb570"
      },
      "execution_count": 7,
      "outputs": [
        {
          "output_type": "stream",
          "name": "stdout",
          "text": [
            "Type a number to see its square: 4\n",
            "4.0 squared is 16.0\n"
          ]
        }
      ]
    },
    {
      "cell_type": "code",
      "source": [],
      "metadata": {
        "id": "BzNWOHrskYPM"
      },
      "execution_count": null,
      "outputs": []
    }
  ]
}