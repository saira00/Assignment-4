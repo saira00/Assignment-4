{
  "nbformat": 4,
  "nbformat_minor": 0,
  "metadata": {
    "colab": {
      "provenance": [],
      "authorship_tag": "ABX9TyP3eXxI0m1IaPQdZMEqgdhr",
      "include_colab_link": true
    },
    "kernelspec": {
      "name": "python3",
      "display_name": "Python 3"
    },
    "language_info": {
      "name": "python"
    }
  },
  "cells": [
    {
      "cell_type": "markdown",
      "metadata": {
        "id": "view-in-github",
        "colab_type": "text"
      },
      "source": [
        "<a href=\"https://colab.research.google.com/github/saira00/Assignment-4/blob/main/03_if_statements.ipynb\" target=\"_parent\"><img src=\"https://colab.research.google.com/assets/colab-badge.svg\" alt=\"Open In Colab\"/></a>"
      ]
    },
    {
      "cell_type": "code",
      "execution_count": 1,
      "metadata": {
        "colab": {
          "base_uri": "https://localhost:8080/"
        },
        "id": "wGaEv-xahmJh",
        "outputId": "6c51deba-e47d-42c0-d3b5-315f37227fa2"
      },
      "outputs": [
        {
          "output_type": "stream",
          "name": "stdout",
          "text": [
            "0 2 4 6 8 10 12 14 16 18 20 22 24 26 28 30 32 34 36 38 "
          ]
        }
      ],
      "source": [
        "# Loop through the first 20 even numbers\n",
        "for i in range(20):\n",
        "    print(i * 2, end=\" \")  # Multiply by 2 to get even numbers and print them on the same line\n"
      ]
    },
    {
      "cell_type": "code",
      "source": [
        "# Prompt the user for their age\n",
        "age = int(input(\"How old are you? \"))\n",
        "\n",
        "# Check voting eligibility in Peturksbouipo\n",
        "if age >= 16:\n",
        "    print(f\"You can vote in Peturksbouipo where the voting age is 16.\")\n",
        "else:\n",
        "    print(f\"You cannot vote in Peturksbouipo where the voting age is 16.\")\n",
        "\n",
        "# Check voting eligibility in Stanlau\n",
        "if age >= 25:\n",
        "    print(f\"You can vote in Stanlau where the voting age is 25.\")\n",
        "else:\n",
        "    print(f\"You cannot vote in Stanlau where the voting age is 25.\")\n",
        "\n",
        "# Check voting eligibility in Mayengua\n",
        "if age >= 48:\n",
        "    print(f\"You can vote in Mayengua where the voting age is 48.\")\n",
        "else:\n",
        "    print(f\"You cannot vote in Mayengua where the voting age is 48.\")\n"
      ],
      "metadata": {
        "colab": {
          "base_uri": "https://localhost:8080/"
        },
        "id": "o9J-YWE5h63-",
        "outputId": "bb1dd9a2-6fad-4b08-d253-d046feb7cbf0"
      },
      "execution_count": 2,
      "outputs": [
        {
          "output_type": "stream",
          "name": "stdout",
          "text": [
            "How old are you? 26\n",
            "You can vote in Peturksbouipo where the voting age is 16.\n",
            "You can vote in Stanlau where the voting age is 25.\n",
            "You cannot vote in Mayengua where the voting age is 48.\n"
          ]
        }
      ]
    },
    {
      "cell_type": "code",
      "source": [
        "# Prompt the user for a year\n",
        "year = int(input(\"Enter a year: \"))\n",
        "\n",
        "# Check if the year is a leap year\n",
        "if (year % 4 == 0 and year % 100 != 0) or (year % 400 == 0):\n",
        "    print(\"That's a leap year!\")\n",
        "else:\n",
        "    print(\"That's not a leap year.\")\n"
      ],
      "metadata": {
        "colab": {
          "base_uri": "https://localhost:8080/"
        },
        "id": "mPN0xYtWiDnG",
        "outputId": "9296e8cf-ed04-4b72-a11a-de75a18e0691"
      },
      "execution_count": 3,
      "outputs": [
        {
          "output_type": "stream",
          "name": "stdout",
          "text": [
            "Enter a year: 4\n",
            "That's a leap year!\n"
          ]
        }
      ]
    },
    {
      "cell_type": "code",
      "source": [
        "# Minimum height required to ride\n",
        "MIN_HEIGHT = 50\n",
        "\n",
        "# Function to check if the user is tall enough\n",
        "def check_height():\n",
        "    height = input(\"How tall are you? \")\n",
        "\n",
        "    if height == \"\":  # If the user doesn't enter a height, stop the program\n",
        "        print(\"Thanks for using the program!\")\n",
        "        return False\n",
        "\n",
        "    try:\n",
        "        height = int(height)  # Convert the input to an integer\n",
        "        if height >= MIN_HEIGHT:\n",
        "            print(\"You're tall enough to ride!\")\n",
        "        else:\n",
        "            print(\"You're not tall enough to ride, but maybe next year!\")\n",
        "        return True\n",
        "    except ValueError:\n",
        "        print(\"Please enter a valid number for height.\")\n",
        "        return True\n",
        "\n",
        "# Keep asking the user until they don't enter a height\n",
        "while check_height():\n",
        "    pass\n"
      ],
      "metadata": {
        "colab": {
          "base_uri": "https://localhost:8080/"
        },
        "id": "LYSFSYQ7iUeJ",
        "outputId": "fafda686-9633-4cbb-dcc4-9b77116e60da"
      },
      "execution_count": 4,
      "outputs": [
        {
          "output_type": "stream",
          "name": "stdout",
          "text": [
            "How tall are you? 10\n",
            "You're not tall enough to ride, but maybe next year!\n",
            "How tall are you? 100\n",
            "You're tall enough to ride!\n",
            "How tall are you? \n",
            "Thanks for using the program!\n"
          ]
        }
      ]
    },
    {
      "cell_type": "code",
      "source": [
        "import random\n",
        "\n",
        "# Generate and print 10 random numbers between 1 and 100\n",
        "for _ in range(10):\n",
        "    print(random.randint(1, 100), end=\" \")\n"
      ],
      "metadata": {
        "colab": {
          "base_uri": "https://localhost:8080/"
        },
        "id": "Nb3HjItAijMk",
        "outputId": "9ae20192-e4aa-4588-b864-5bfcd7984df2"
      },
      "execution_count": 5,
      "outputs": [
        {
          "output_type": "stream",
          "name": "stdout",
          "text": [
            "44 46 67 80 14 30 14 36 68 30 "
          ]
        }
      ]
    },
    {
      "cell_type": "code",
      "source": [],
      "metadata": {
        "id": "HrIy1im1ioRV"
      },
      "execution_count": null,
      "outputs": []
    }
  ]
}