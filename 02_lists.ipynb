{
  "nbformat": 4,
  "nbformat_minor": 0,
  "metadata": {
    "colab": {
      "provenance": [],
      "authorship_tag": "ABX9TyNcJ999MnawnTV2ergGm2Ke",
      "include_colab_link": true
    },
    "kernelspec": {
      "name": "python3",
      "display_name": "Python 3"
    },
    "language_info": {
      "name": "python"
    }
  },
  "cells": [
    {
      "cell_type": "markdown",
      "metadata": {
        "id": "view-in-github",
        "colab_type": "text"
      },
      "source": [
        "<a href=\"https://colab.research.google.com/github/saira00/Assignment-4/blob/main/02_lists.ipynb\" target=\"_parent\"><img src=\"https://colab.research.google.com/assets/colab-badge.svg\" alt=\"Open In Colab\"/></a>"
      ]
    },
    {
      "cell_type": "code",
      "execution_count": 1,
      "metadata": {
        "colab": {
          "base_uri": "https://localhost:8080/"
        },
        "id": "xEqoFCSadOIj",
        "outputId": "d3bd1f76-1fcd-4a6f-8aae-6992d50cf2cf"
      },
      "outputs": [
        {
          "output_type": "stream",
          "name": "stdout",
          "text": [
            "Sum: 15\n"
          ]
        }
      ],
      "source": [
        "def sum_numbers(numbers):\n",
        "    return sum(numbers)\n",
        "\n",
        "my_list = [1, 2, 3, 4, 5]\n",
        "result = sum_numbers(my_list)\n",
        "print(\"Sum:\", result)\n"
      ]
    },
    {
      "cell_type": "code",
      "source": [
        "numbers = [1, 2, 3, 4]\n",
        "doubled_numbers = [num * 2 for num in numbers]\n",
        "print(\"Doubled list:\", doubled_numbers)\n"
      ],
      "metadata": {
        "colab": {
          "base_uri": "https://localhost:8080/"
        },
        "id": "du_pxVeBduGV",
        "outputId": "6e67250b-9f9c-4b73-8445-2d9aec4ea6b0"
      },
      "execution_count": 2,
      "outputs": [
        {
          "output_type": "stream",
          "name": "stdout",
          "text": [
            "Doubled list: [2, 4, 6, 8]\n"
          ]
        }
      ]
    },
    {
      "cell_type": "code",
      "source": [
        "import pygame\n",
        "import sys\n",
        "\n",
        "# Initialize Pygame\n",
        "pygame.init()\n",
        "\n",
        "# Constants\n",
        "WIDTH, HEIGHT = 600, 400\n",
        "CELL_SIZE = 40\n",
        "ERASER_SIZE = 50\n",
        "BLUE = (0, 0, 255)\n",
        "WHITE = (255, 255, 255)\n",
        "BG_COLOR = (200, 200, 200)\n",
        "\n",
        "# Set up display\n",
        "screen = pygame.display.set_mode((WIDTH, HEIGHT))\n",
        "pygame.display.set_caption(\"Canvas Eraser\")\n",
        "\n",
        "# Create grid of cells\n",
        "cols = WIDTH // CELL_SIZE\n",
        "rows = HEIGHT // CELL_SIZE\n",
        "cells = [[BLUE for _ in range(cols)] for _ in range(rows)]\n",
        "\n",
        "# Main loop\n",
        "clock = pygame.time.Clock()\n",
        "running = True\n",
        "dragging = False\n",
        "\n",
        "while running:\n",
        "    screen.fill(BG_COLOR)\n",
        "    mouse_x, mouse_y = pygame.mouse.get_pos()\n",
        "    eraser_rect = pygame.Rect(mouse_x, mouse_y, ERASER_SIZE, ERASER_SIZE)\n",
        "\n",
        "    for event in pygame.event.get():\n",
        "        if event.type == pygame.QUIT:\n",
        "            running = False\n",
        "        elif event.type == pygame.MOUSEBUTTONDOWN:\n",
        "            dragging = True\n",
        "        elif event.type == pygame.MOUSEBUTTONUP:\n",
        "            dragging = False\n",
        "\n",
        "    # Draw and possibly erase cells\n",
        "    for row in range(rows):\n",
        "        for col in range(cols):\n",
        "            rect = pygame.Rect(col * CELL_SIZE, row * CELL_SIZE, CELL_SIZE, CELL_SIZE)\n",
        "            if dragging and eraser_rect.colliderect(rect):\n",
        "                cells[row][col] = WHITE\n",
        "            pygame.draw.rect(screen, cells[row][col], rect)\n",
        "            pygame.draw.rect(screen, (0, 0, 0), rect, 1)  # cell border\n",
        "\n",
        "    # Draw eraser (transparent red box)\n",
        "    pygame.draw.rect(screen, (255, 0, 0, 100), eraser_rect, 2)\n",
        "\n",
        "    pygame.display.flip()\n",
        "    clock.tick(60)\n",
        "\n",
        "pygame.quit()\n",
        "sys.exit()\n"
      ],
      "metadata": {
        "colab": {
          "base_uri": "https://localhost:8080/"
        },
        "id": "FPysVQg2d0qk",
        "outputId": "74923147-2a9f-42da-f7e2-645c68fef800"
      },
      "execution_count": null,
      "outputs": [
        {
          "output_type": "stream",
          "name": "stdout",
          "text": [
            "pygame 2.6.1 (SDL 2.28.4, Python 3.11.12)\n",
            "Hello from the pygame community. https://www.pygame.org/contribute.html\n"
          ]
        }
      ]
    },
    {
      "cell_type": "code",
      "source": [
        "def add_three_copies(my_list, data):\n",
        "    for _ in range(3):\n",
        "        my_list.append(data)\n",
        "\n",
        "# Main part of the program\n",
        "message = input(\"Enter a message to copy: \")\n",
        "\n",
        "# Create an empty list before the function call\n",
        "my_list = []\n",
        "\n",
        "# Print list before calling the function\n",
        "print(\"List before:\", my_list)\n",
        "\n",
        "# Call the function to add 3 copies of the message\n",
        "add_three_copies(my_list, message)\n",
        "\n",
        "# Print list after calling the function\n",
        "print(\"List after:\", my_list)\n"
      ],
      "metadata": {
        "id": "N2eUKL1xeSHH"
      },
      "execution_count": null,
      "outputs": []
    },
    {
      "cell_type": "code",
      "source": [
        "def get_first_element(lst):\n",
        "    # Print the first element in the list\n",
        "    print(lst[0])\n",
        "\n",
        "# Main code to input the list\n",
        "n = int(input(\"Enter the number of elements in the list: \"))\n",
        "my_list = []\n",
        "\n",
        "for i in range(n):\n",
        "    element = input(f\"Enter element {i + 1}: \")\n",
        "    my_list.append(element)\n",
        "\n",
        "# Call the function to get the first element\n",
        "get_first_element(my_list)\n"
      ],
      "metadata": {
        "id": "W8UWPu0Zep7M"
      },
      "execution_count": null,
      "outputs": []
    },
    {
      "cell_type": "code",
      "source": [
        "def get_last_element(lst):\n",
        "    # Print the last element in the list\n",
        "    print(lst[-1])\n",
        "\n",
        "# Main code to input the list\n",
        "n = int(input(\"Enter the number of elements in the list: \"))\n",
        "my_list = []\n",
        "\n",
        "for i in range(n):\n",
        "    element = input(f\"Enter element {i + 1}: \")\n",
        "    my_list.append(element)\n",
        "\n",
        "# Call the function to get the last element\n",
        "get_last_element(my_list)\n"
      ],
      "metadata": {
        "id": "DFFiHjnCe7-e"
      },
      "execution_count": null,
      "outputs": []
    },
    {
      "cell_type": "code",
      "source": [
        "# Initialize an empty list\n",
        "my_list = []\n",
        "\n",
        "while True:\n",
        "    # Ask the user to enter a value\n",
        "    value = input(\"Enter a value: \")\n",
        "\n",
        "    # If the input is empty, break the loop\n",
        "    if value == \"\":\n",
        "        print(\"Here's the list:\", my_list)\n",
        "        break\n",
        "\n",
        "    # Add the value to the list\n",
        "    my_list.append(value)\n"
      ],
      "metadata": {
        "id": "SP6yCjEbfJzF"
      },
      "execution_count": null,
      "outputs": []
    },
    {
      "cell_type": "code",
      "source": [
        "MAX_LENGTH = 3  # You can adjust this value for testing, but it must be 3 for the autograder\n",
        "\n",
        "def shorten(lst):\n",
        "    # Continue removing items from the end until the list has MAX_LENGTH elements\n",
        "    while len(lst) > MAX_LENGTH:\n",
        "        removed_item = lst.pop()  # Remove the last item\n",
        "        print(f\"Removed: {removed_item}\")  # Print the item removed\n",
        "\n",
        "# Main function to test the shorten function\n",
        "def main():\n",
        "    # Example list input\n",
        "    my_list = ['a', 'b', 'c', 'd', 'e']\n",
        "\n",
        "    print(\"Original list:\", my_list)\n",
        "\n",
        "    # Call the shorten function\n",
        "    shorten(my_list)\n",
        "\n",
        "    # Final list after shortening\n",
        "    print(\"Final list:\", my_list)\n",
        "\n",
        "if __name__ == \"__main__\":\n",
        "    main()\n"
      ],
      "metadata": {
        "id": "xjVWXR9tfUV6"
      },
      "execution_count": null,
      "outputs": []
    }
  ]
}